{
 "cells": [
  {
   "cell_type": "code",
   "execution_count": 1,
   "id": "98b0d22b",
   "metadata": {},
   "outputs": [],
   "source": [
    "import mysql.connector\n",
    "from mysql.connector import Error\n",
    "import pandas as pd"
   ]
  },
  {
   "cell_type": "code",
   "execution_count": 3,
   "id": "b2de2582",
   "metadata": {},
   "outputs": [
    {
     "name": "stdout",
     "output_type": "stream",
     "text": [
      "MySQL Server connection successful\n"
     ]
    }
   ],
   "source": [
    "def make_server_connection(host_name, user_name, user_password):\n",
    "    connection = None\n",
    "    try:\n",
    "        connection = mysql.connector.connect(\n",
    "            host=host_name,\n",
    "            user=user_name,\n",
    "            passwd=user_password\n",
    "        )\n",
    "        print(\"MySQL Server connection successful\")\n",
    "    except Error as err:\n",
    "        print(f\"Error: '{err}'\")\n",
    "\n",
    "    return connection\n",
    "\n",
    "host_name = \"localhost\"\n",
    "user_name = \"waleed\"\n",
    "user_password = \"Waleed@18574\" \n",
    "\n",
    "\n",
    "connection = make_server_connection(host_name, user_name, user_password)"
   ]
  },
  {
   "cell_type": "code",
   "execution_count": 5,
   "id": "38fdd715",
   "metadata": {},
   "outputs": [
    {
     "name": "stdout",
     "output_type": "stream",
     "text": [
      "SQL script executed successfully.\n"
     ]
    }
   ],
   "source": [
    "# ...existing code...\n",
    "\n",
    "def run_sql_script(connection, sql_file_path):\n",
    "    cursor = connection.cursor()\n",
    "    with open(sql_file_path, 'r') as file:\n",
    "        sql_script = file.read()\n",
    "    for statement in sql_script.split(';'):\n",
    "        if statement.strip():\n",
    "            try:\n",
    "                cursor.execute(statement)\n",
    "            except Exception as e:\n",
    "                print(f\"Error executing statement: {e}\")\n",
    "    cursor.close()\n",
    "    print(\"SQL script executed successfully.\")\n",
    "\n",
    "# Usage:\n",
    "sql_file_path = \"Setup.sql\"  # Adjust path if needed\n",
    "run_sql_script(connection, sql_file_path)\n",
    "# ...existing code..."
   ]
  }
 ],
 "metadata": {
  "kernelspec": {
   "display_name": "Python 3",
   "language": "python",
   "name": "python3"
  },
  "language_info": {
   "codemirror_mode": {
    "name": "ipython",
    "version": 3
   },
   "file_extension": ".py",
   "mimetype": "text/x-python",
   "name": "python",
   "nbconvert_exporter": "python",
   "pygments_lexer": "ipython3",
   "version": "3.12.1"
  }
 },
 "nbformat": 4,
 "nbformat_minor": 5
}
