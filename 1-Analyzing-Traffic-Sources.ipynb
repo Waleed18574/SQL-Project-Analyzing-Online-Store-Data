{
 "cells": [
  {
   "cell_type": "markdown",
   "id": "48a58395",
   "metadata": {},
   "source": [
    "## 1. Analyzing Traffic Sources"
   ]
  },
  {
   "cell_type": "code",
   "execution_count": 1,
   "id": "04e2df2f",
   "metadata": {},
   "outputs": [],
   "source": [
    "import mysql.connector\n",
    "from mysql.connector import Error\n",
    "import pandas as pd"
   ]
  },
  {
   "cell_type": "code",
   "execution_count": 2,
   "id": "eded0556",
   "metadata": {},
   "outputs": [
    {
     "name": "stdout",
     "output_type": "stream",
     "text": [
      "MySQL Server connection successful\n"
     ]
    }
   ],
   "source": [
    "def make_server_connection(host_name, user_name, user_password):\n",
    "    connection = None\n",
    "    try:\n",
    "        connection = mysql.connector.connect(\n",
    "            host=host_name,\n",
    "            user=user_name,\n",
    "            passwd=user_password\n",
    "        )\n",
    "        print(\"MySQL Server connection successful\")\n",
    "    except Error as err:\n",
    "        print(f\"Error: '{err}'\")\n",
    "\n",
    "    return connection\n",
    "\n",
    "host_name = \"localhost\"\n",
    "user_name = \"waleed\"\n",
    "user_password = \"Waleed@18574\" \n",
    "\n",
    "\n",
    "connection = make_server_connection(host_name, user_name, user_password)"
   ]
  },
  {
   "cell_type": "code",
   "execution_count": null,
   "id": "91045908",
   "metadata": {},
   "outputs": [],
   "source": []
  }
 ],
 "metadata": {
  "kernelspec": {
   "display_name": "Python 3",
   "language": "python",
   "name": "python3"
  },
  "language_info": {
   "codemirror_mode": {
    "name": "ipython",
    "version": 3
   },
   "file_extension": ".py",
   "mimetype": "text/x-python",
   "name": "python",
   "nbconvert_exporter": "python",
   "pygments_lexer": "ipython3",
   "version": "3.12.1"
  }
 },
 "nbformat": 4,
 "nbformat_minor": 5
}
